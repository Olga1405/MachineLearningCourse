{
 "cells": [
  {
   "cell_type": "markdown",
   "metadata": {},
   "source": [
    "California DDS Expenditures"
   ]
  },
  {
   "cell_type": "markdown",
   "metadata": {},
   "source": [
    "Датасет предсавляет собой распределение финансирования Департамента служб развития для лиц с ограниченными возможностями в Калифорнии в 2014 году."
   ]
  },
  {
   "cell_type": "markdown",
   "metadata": {},
   "source": [
    "Id [int] - номер "
   ]
  },
  {
   "cell_type": "markdown",
   "metadata": {},
   "source": [
    "Age Cohort (age group) [factor] - возрастная группа "
   ]
  },
  {
   "cell_type": "markdown",
   "metadata": {},
   "source": [
    "Age [int] - возраст "
   ]
  },
  {
   "cell_type": "markdown",
   "metadata": {},
   "source": [
    "Gender [factor] - пол "
   ]
  },
  {
   "cell_type": "markdown",
   "metadata": {},
   "source": [
    "Expenditures [int] - расходы "
   ]
  },
  {
   "cell_type": "markdown",
   "metadata": {},
   "source": [
    "Ethnicity [factor] - этническая принадлежность"
   ]
  },
  {
   "cell_type": "code",
   "execution_count": 1,
   "metadata": {
    "collapsed": true
   },
   "outputs": [],
   "source": [
    "import numpy as np\n",
    "import matplotlib.pyplot as plt\n",
    "import pandas as pd\n",
    "%matplotlib inline"
   ]
  },
  {
   "cell_type": "code",
   "execution_count": 3,
   "metadata": {
    "collapsed": true
   },
   "outputs": [],
   "source": [
    "data = pd.read_csv('californiaDDSDataV2.csv', sep = ',', engine = 'python')"
   ]
  },
  {
   "cell_type": "code",
   "execution_count": 4,
   "metadata": {},
   "outputs": [
    {
     "data": {
      "text/plain": [
       "pandas.core.frame.DataFrame"
      ]
     },
     "execution_count": 4,
     "metadata": {},
     "output_type": "execute_result"
    }
   ],
   "source": [
    "type(data)"
   ]
  },
  {
   "cell_type": "code",
   "execution_count": 5,
   "metadata": {},
   "outputs": [
    {
     "data": {
      "text/html": [
       "<div>\n",
       "<style>\n",
       "    .dataframe thead tr:only-child th {\n",
       "        text-align: right;\n",
       "    }\n",
       "\n",
       "    .dataframe thead th {\n",
       "        text-align: left;\n",
       "    }\n",
       "\n",
       "    .dataframe tbody tr th {\n",
       "        vertical-align: top;\n",
       "    }\n",
       "</style>\n",
       "<table border=\"1\" class=\"dataframe\">\n",
       "  <thead>\n",
       "    <tr style=\"text-align: right;\">\n",
       "      <th></th>\n",
       "      <th>Id</th>\n",
       "      <th>Age Cohort</th>\n",
       "      <th>Age</th>\n",
       "      <th>Gender</th>\n",
       "      <th>Expenditures</th>\n",
       "      <th>Ethnicity</th>\n",
       "    </tr>\n",
       "  </thead>\n",
       "  <tbody>\n",
       "    <tr>\n",
       "      <th>0</th>\n",
       "      <td>10210</td>\n",
       "      <td>13 to 17</td>\n",
       "      <td>17</td>\n",
       "      <td>Female</td>\n",
       "      <td>2113</td>\n",
       "      <td>White not Hispanic</td>\n",
       "    </tr>\n",
       "    <tr>\n",
       "      <th>1</th>\n",
       "      <td>10409</td>\n",
       "      <td>22 to 50</td>\n",
       "      <td>37</td>\n",
       "      <td>Male</td>\n",
       "      <td>41924</td>\n",
       "      <td>White not Hispanic</td>\n",
       "    </tr>\n",
       "    <tr>\n",
       "      <th>2</th>\n",
       "      <td>10486</td>\n",
       "      <td>0 to 5</td>\n",
       "      <td>3</td>\n",
       "      <td>Male</td>\n",
       "      <td>1454</td>\n",
       "      <td>Hispanic</td>\n",
       "    </tr>\n",
       "    <tr>\n",
       "      <th>3</th>\n",
       "      <td>10538</td>\n",
       "      <td>18 to 21</td>\n",
       "      <td>19</td>\n",
       "      <td>Female</td>\n",
       "      <td>6400</td>\n",
       "      <td>Hispanic</td>\n",
       "    </tr>\n",
       "    <tr>\n",
       "      <th>4</th>\n",
       "      <td>10568</td>\n",
       "      <td>13 to 17</td>\n",
       "      <td>13</td>\n",
       "      <td>Male</td>\n",
       "      <td>4412</td>\n",
       "      <td>White not Hispanic</td>\n",
       "    </tr>\n",
       "    <tr>\n",
       "      <th>5</th>\n",
       "      <td>10690</td>\n",
       "      <td>13 to 17</td>\n",
       "      <td>15</td>\n",
       "      <td>Female</td>\n",
       "      <td>4566</td>\n",
       "      <td>Hispanic</td>\n",
       "    </tr>\n",
       "    <tr>\n",
       "      <th>6</th>\n",
       "      <td>10711</td>\n",
       "      <td>13 to 17</td>\n",
       "      <td>13</td>\n",
       "      <td>Female</td>\n",
       "      <td>3915</td>\n",
       "      <td>White not Hispanic</td>\n",
       "    </tr>\n",
       "    <tr>\n",
       "      <th>7</th>\n",
       "      <td>10778</td>\n",
       "      <td>13 to 17</td>\n",
       "      <td>17</td>\n",
       "      <td>Male</td>\n",
       "      <td>3873</td>\n",
       "      <td>Black</td>\n",
       "    </tr>\n",
       "    <tr>\n",
       "      <th>8</th>\n",
       "      <td>10820</td>\n",
       "      <td>13 to 17</td>\n",
       "      <td>14</td>\n",
       "      <td>Female</td>\n",
       "      <td>5021</td>\n",
       "      <td>White not Hispanic</td>\n",
       "    </tr>\n",
       "    <tr>\n",
       "      <th>9</th>\n",
       "      <td>10823</td>\n",
       "      <td>13 to 17</td>\n",
       "      <td>13</td>\n",
       "      <td>Male</td>\n",
       "      <td>2887</td>\n",
       "      <td>Hispanic</td>\n",
       "    </tr>\n",
       "    <tr>\n",
       "      <th>10</th>\n",
       "      <td>11000</td>\n",
       "      <td>13 to 17</td>\n",
       "      <td>13</td>\n",
       "      <td>Female</td>\n",
       "      <td>4154</td>\n",
       "      <td>White not Hispanic</td>\n",
       "    </tr>\n",
       "    <tr>\n",
       "      <th>11</th>\n",
       "      <td>11024</td>\n",
       "      <td>13 to 17</td>\n",
       "      <td>14</td>\n",
       "      <td>Male</td>\n",
       "      <td>3048</td>\n",
       "      <td>Hispanic</td>\n",
       "    </tr>\n",
       "    <tr>\n",
       "      <th>12</th>\n",
       "      <td>11115</td>\n",
       "      <td>13 to 17</td>\n",
       "      <td>15</td>\n",
       "      <td>Female</td>\n",
       "      <td>2757</td>\n",
       "      <td>White not Hispanic</td>\n",
       "    </tr>\n",
       "    <tr>\n",
       "      <th>13</th>\n",
       "      <td>11189</td>\n",
       "      <td>13 to 17</td>\n",
       "      <td>17</td>\n",
       "      <td>Male</td>\n",
       "      <td>5340</td>\n",
       "      <td>Multi Race</td>\n",
       "    </tr>\n",
       "    <tr>\n",
       "      <th>14</th>\n",
       "      <td>11201</td>\n",
       "      <td>18 to 21</td>\n",
       "      <td>20</td>\n",
       "      <td>Male</td>\n",
       "      <td>10047</td>\n",
       "      <td>Hispanic</td>\n",
       "    </tr>\n",
       "    <tr>\n",
       "      <th>15</th>\n",
       "      <td>11210</td>\n",
       "      <td>22 to 50</td>\n",
       "      <td>25</td>\n",
       "      <td>Female</td>\n",
       "      <td>34795</td>\n",
       "      <td>Black</td>\n",
       "    </tr>\n",
       "    <tr>\n",
       "      <th>16</th>\n",
       "      <td>11379</td>\n",
       "      <td>22 to 50</td>\n",
       "      <td>23</td>\n",
       "      <td>Female</td>\n",
       "      <td>43025</td>\n",
       "      <td>White not Hispanic</td>\n",
       "    </tr>\n",
       "    <tr>\n",
       "      <th>17</th>\n",
       "      <td>11380</td>\n",
       "      <td>22 to 50</td>\n",
       "      <td>41</td>\n",
       "      <td>Male</td>\n",
       "      <td>54115</td>\n",
       "      <td>Asian</td>\n",
       "    </tr>\n",
       "    <tr>\n",
       "      <th>18</th>\n",
       "      <td>11441</td>\n",
       "      <td>0 to 5</td>\n",
       "      <td>5</td>\n",
       "      <td>Female</td>\n",
       "      <td>1748</td>\n",
       "      <td>Hispanic</td>\n",
       "    </tr>\n",
       "    <tr>\n",
       "      <th>19</th>\n",
       "      <td>11466</td>\n",
       "      <td>13 to 17</td>\n",
       "      <td>15</td>\n",
       "      <td>Female</td>\n",
       "      <td>4515</td>\n",
       "      <td>Hispanic</td>\n",
       "    </tr>\n",
       "    <tr>\n",
       "      <th>20</th>\n",
       "      <td>11812</td>\n",
       "      <td>0 to 5</td>\n",
       "      <td>5</td>\n",
       "      <td>Male</td>\n",
       "      <td>1861</td>\n",
       "      <td>Hispanic</td>\n",
       "    </tr>\n",
       "    <tr>\n",
       "      <th>21</th>\n",
       "      <td>11842</td>\n",
       "      <td>0 to 5</td>\n",
       "      <td>5</td>\n",
       "      <td>Male</td>\n",
       "      <td>1598</td>\n",
       "      <td>Hispanic</td>\n",
       "    </tr>\n",
       "    <tr>\n",
       "      <th>22</th>\n",
       "      <td>11922</td>\n",
       "      <td>22 to 50</td>\n",
       "      <td>22</td>\n",
       "      <td>Female</td>\n",
       "      <td>46571</td>\n",
       "      <td>Hispanic</td>\n",
       "    </tr>\n",
       "    <tr>\n",
       "      <th>23</th>\n",
       "      <td>11935</td>\n",
       "      <td>0 to 5</td>\n",
       "      <td>3</td>\n",
       "      <td>Male</td>\n",
       "      <td>1066</td>\n",
       "      <td>Hispanic</td>\n",
       "    </tr>\n",
       "    <tr>\n",
       "      <th>24</th>\n",
       "      <td>12127</td>\n",
       "      <td>13 to 17</td>\n",
       "      <td>16</td>\n",
       "      <td>Female</td>\n",
       "      <td>3867</td>\n",
       "      <td>Black</td>\n",
       "    </tr>\n",
       "    <tr>\n",
       "      <th>25</th>\n",
       "      <td>12137</td>\n",
       "      <td>51+</td>\n",
       "      <td>71</td>\n",
       "      <td>Female</td>\n",
       "      <td>57928</td>\n",
       "      <td>White not Hispanic</td>\n",
       "    </tr>\n",
       "    <tr>\n",
       "      <th>26</th>\n",
       "      <td>12207</td>\n",
       "      <td>13 to 17</td>\n",
       "      <td>13</td>\n",
       "      <td>Female</td>\n",
       "      <td>4002</td>\n",
       "      <td>White not Hispanic</td>\n",
       "    </tr>\n",
       "    <tr>\n",
       "      <th>27</th>\n",
       "      <td>12530</td>\n",
       "      <td>18 to 21</td>\n",
       "      <td>18</td>\n",
       "      <td>Female</td>\n",
       "      <td>10434</td>\n",
       "      <td>Asian</td>\n",
       "    </tr>\n",
       "    <tr>\n",
       "      <th>28</th>\n",
       "      <td>12589</td>\n",
       "      <td>51+</td>\n",
       "      <td>63</td>\n",
       "      <td>Female</td>\n",
       "      <td>56134</td>\n",
       "      <td>White not Hispanic</td>\n",
       "    </tr>\n",
       "    <tr>\n",
       "      <th>29</th>\n",
       "      <td>12834</td>\n",
       "      <td>0 to 5</td>\n",
       "      <td>1</td>\n",
       "      <td>Male</td>\n",
       "      <td>1070</td>\n",
       "      <td>White not Hispanic</td>\n",
       "    </tr>\n",
       "    <tr>\n",
       "      <th>...</th>\n",
       "      <td>...</td>\n",
       "      <td>...</td>\n",
       "      <td>...</td>\n",
       "      <td>...</td>\n",
       "      <td>...</td>\n",
       "      <td>...</td>\n",
       "    </tr>\n",
       "    <tr>\n",
       "      <th>970</th>\n",
       "      <td>96840</td>\n",
       "      <td>51+</td>\n",
       "      <td>51</td>\n",
       "      <td>Female</td>\n",
       "      <td>48622</td>\n",
       "      <td>White not Hispanic</td>\n",
       "    </tr>\n",
       "    <tr>\n",
       "      <th>971</th>\n",
       "      <td>96974</td>\n",
       "      <td>13 to 17</td>\n",
       "      <td>17</td>\n",
       "      <td>Female</td>\n",
       "      <td>5276</td>\n",
       "      <td>White not Hispanic</td>\n",
       "    </tr>\n",
       "    <tr>\n",
       "      <th>972</th>\n",
       "      <td>97057</td>\n",
       "      <td>22 to 50</td>\n",
       "      <td>41</td>\n",
       "      <td>Male</td>\n",
       "      <td>50202</td>\n",
       "      <td>White not Hispanic</td>\n",
       "    </tr>\n",
       "    <tr>\n",
       "      <th>973</th>\n",
       "      <td>97122</td>\n",
       "      <td>22 to 50</td>\n",
       "      <td>44</td>\n",
       "      <td>Male</td>\n",
       "      <td>46144</td>\n",
       "      <td>Hispanic</td>\n",
       "    </tr>\n",
       "    <tr>\n",
       "      <th>974</th>\n",
       "      <td>97211</td>\n",
       "      <td>0 to 5</td>\n",
       "      <td>5</td>\n",
       "      <td>Female</td>\n",
       "      <td>240</td>\n",
       "      <td>Black</td>\n",
       "    </tr>\n",
       "    <tr>\n",
       "      <th>975</th>\n",
       "      <td>97268</td>\n",
       "      <td>22 to 50</td>\n",
       "      <td>23</td>\n",
       "      <td>Male</td>\n",
       "      <td>35016</td>\n",
       "      <td>White not Hispanic</td>\n",
       "    </tr>\n",
       "    <tr>\n",
       "      <th>976</th>\n",
       "      <td>97316</td>\n",
       "      <td>51+</td>\n",
       "      <td>75</td>\n",
       "      <td>Female</td>\n",
       "      <td>55956</td>\n",
       "      <td>White not Hispanic</td>\n",
       "    </tr>\n",
       "    <tr>\n",
       "      <th>977</th>\n",
       "      <td>97426</td>\n",
       "      <td>0 to 5</td>\n",
       "      <td>1</td>\n",
       "      <td>Female</td>\n",
       "      <td>2359</td>\n",
       "      <td>Multi Race</td>\n",
       "    </tr>\n",
       "    <tr>\n",
       "      <th>978</th>\n",
       "      <td>97793</td>\n",
       "      <td>6 to 12</td>\n",
       "      <td>9</td>\n",
       "      <td>Female</td>\n",
       "      <td>1048</td>\n",
       "      <td>Multi Race</td>\n",
       "    </tr>\n",
       "    <tr>\n",
       "      <th>979</th>\n",
       "      <td>97930</td>\n",
       "      <td>51+</td>\n",
       "      <td>69</td>\n",
       "      <td>Female</td>\n",
       "      <td>53561</td>\n",
       "      <td>White not Hispanic</td>\n",
       "    </tr>\n",
       "    <tr>\n",
       "      <th>980</th>\n",
       "      <td>98015</td>\n",
       "      <td>22 to 50</td>\n",
       "      <td>46</td>\n",
       "      <td>Male</td>\n",
       "      <td>52222</td>\n",
       "      <td>Hispanic</td>\n",
       "    </tr>\n",
       "    <tr>\n",
       "      <th>981</th>\n",
       "      <td>98235</td>\n",
       "      <td>22 to 50</td>\n",
       "      <td>28</td>\n",
       "      <td>Male</td>\n",
       "      <td>29588</td>\n",
       "      <td>Hispanic</td>\n",
       "    </tr>\n",
       "    <tr>\n",
       "      <th>982</th>\n",
       "      <td>98268</td>\n",
       "      <td>18 to 21</td>\n",
       "      <td>18</td>\n",
       "      <td>Female</td>\n",
       "      <td>10393</td>\n",
       "      <td>White not Hispanic</td>\n",
       "    </tr>\n",
       "    <tr>\n",
       "      <th>983</th>\n",
       "      <td>98269</td>\n",
       "      <td>22 to 50</td>\n",
       "      <td>38</td>\n",
       "      <td>Male</td>\n",
       "      <td>54191</td>\n",
       "      <td>White not Hispanic</td>\n",
       "    </tr>\n",
       "    <tr>\n",
       "      <th>984</th>\n",
       "      <td>98382</td>\n",
       "      <td>51+</td>\n",
       "      <td>54</td>\n",
       "      <td>Female</td>\n",
       "      <td>46312</td>\n",
       "      <td>White not Hispanic</td>\n",
       "    </tr>\n",
       "    <tr>\n",
       "      <th>985</th>\n",
       "      <td>98428</td>\n",
       "      <td>22 to 50</td>\n",
       "      <td>24</td>\n",
       "      <td>Male</td>\n",
       "      <td>49449</td>\n",
       "      <td>Asian</td>\n",
       "    </tr>\n",
       "    <tr>\n",
       "      <th>986</th>\n",
       "      <td>98522</td>\n",
       "      <td>13 to 17</td>\n",
       "      <td>13</td>\n",
       "      <td>Female</td>\n",
       "      <td>3097</td>\n",
       "      <td>White not Hispanic</td>\n",
       "    </tr>\n",
       "    <tr>\n",
       "      <th>987</th>\n",
       "      <td>98547</td>\n",
       "      <td>13 to 17</td>\n",
       "      <td>13</td>\n",
       "      <td>Female</td>\n",
       "      <td>3392</td>\n",
       "      <td>White not Hispanic</td>\n",
       "    </tr>\n",
       "    <tr>\n",
       "      <th>988</th>\n",
       "      <td>98562</td>\n",
       "      <td>13 to 17</td>\n",
       "      <td>15</td>\n",
       "      <td>Female</td>\n",
       "      <td>3641</td>\n",
       "      <td>Hispanic</td>\n",
       "    </tr>\n",
       "    <tr>\n",
       "      <th>989</th>\n",
       "      <td>98683</td>\n",
       "      <td>6 to 12</td>\n",
       "      <td>8</td>\n",
       "      <td>Male</td>\n",
       "      <td>2441</td>\n",
       "      <td>Hispanic</td>\n",
       "    </tr>\n",
       "    <tr>\n",
       "      <th>990</th>\n",
       "      <td>98792</td>\n",
       "      <td>0 to 5</td>\n",
       "      <td>5</td>\n",
       "      <td>Male</td>\n",
       "      <td>1411</td>\n",
       "      <td>Hispanic</td>\n",
       "    </tr>\n",
       "    <tr>\n",
       "      <th>991</th>\n",
       "      <td>99046</td>\n",
       "      <td>22 to 50</td>\n",
       "      <td>30</td>\n",
       "      <td>Female</td>\n",
       "      <td>35231</td>\n",
       "      <td>White not Hispanic</td>\n",
       "    </tr>\n",
       "    <tr>\n",
       "      <th>992</th>\n",
       "      <td>99114</td>\n",
       "      <td>18 to 21</td>\n",
       "      <td>18</td>\n",
       "      <td>Male</td>\n",
       "      <td>5298</td>\n",
       "      <td>Hispanic</td>\n",
       "    </tr>\n",
       "    <tr>\n",
       "      <th>993</th>\n",
       "      <td>99147</td>\n",
       "      <td>18 to 21</td>\n",
       "      <td>20</td>\n",
       "      <td>Male</td>\n",
       "      <td>7288</td>\n",
       "      <td>Asian</td>\n",
       "    </tr>\n",
       "    <tr>\n",
       "      <th>994</th>\n",
       "      <td>99529</td>\n",
       "      <td>0 to 5</td>\n",
       "      <td>2</td>\n",
       "      <td>Male</td>\n",
       "      <td>2258</td>\n",
       "      <td>Multi Race</td>\n",
       "    </tr>\n",
       "    <tr>\n",
       "      <th>995</th>\n",
       "      <td>99622</td>\n",
       "      <td>51+</td>\n",
       "      <td>86</td>\n",
       "      <td>Female</td>\n",
       "      <td>57055</td>\n",
       "      <td>White not Hispanic</td>\n",
       "    </tr>\n",
       "    <tr>\n",
       "      <th>996</th>\n",
       "      <td>99715</td>\n",
       "      <td>18 to 21</td>\n",
       "      <td>20</td>\n",
       "      <td>Male</td>\n",
       "      <td>7494</td>\n",
       "      <td>Hispanic</td>\n",
       "    </tr>\n",
       "    <tr>\n",
       "      <th>997</th>\n",
       "      <td>99718</td>\n",
       "      <td>13 to 17</td>\n",
       "      <td>17</td>\n",
       "      <td>Female</td>\n",
       "      <td>3673</td>\n",
       "      <td>Multi Race</td>\n",
       "    </tr>\n",
       "    <tr>\n",
       "      <th>998</th>\n",
       "      <td>99791</td>\n",
       "      <td>6 to 12</td>\n",
       "      <td>10</td>\n",
       "      <td>Male</td>\n",
       "      <td>3638</td>\n",
       "      <td>Hispanic</td>\n",
       "    </tr>\n",
       "    <tr>\n",
       "      <th>999</th>\n",
       "      <td>99898</td>\n",
       "      <td>22 to 50</td>\n",
       "      <td>23</td>\n",
       "      <td>Male</td>\n",
       "      <td>26702</td>\n",
       "      <td>White not Hispanic</td>\n",
       "    </tr>\n",
       "  </tbody>\n",
       "</table>\n",
       "<p>1000 rows × 6 columns</p>\n",
       "</div>"
      ],
      "text/plain": [
       "        Id Age Cohort  Age  Gender  Expenditures           Ethnicity\n",
       "0    10210   13 to 17   17  Female          2113  White not Hispanic\n",
       "1    10409   22 to 50   37    Male         41924  White not Hispanic\n",
       "2    10486     0 to 5    3    Male          1454            Hispanic\n",
       "3    10538   18 to 21   19  Female          6400            Hispanic\n",
       "4    10568   13 to 17   13    Male          4412  White not Hispanic\n",
       "5    10690   13 to 17   15  Female          4566            Hispanic\n",
       "6    10711   13 to 17   13  Female          3915  White not Hispanic\n",
       "7    10778   13 to 17   17    Male          3873               Black\n",
       "8    10820   13 to 17   14  Female          5021  White not Hispanic\n",
       "9    10823   13 to 17   13    Male          2887            Hispanic\n",
       "10   11000   13 to 17   13  Female          4154  White not Hispanic\n",
       "11   11024   13 to 17   14    Male          3048            Hispanic\n",
       "12   11115   13 to 17   15  Female          2757  White not Hispanic\n",
       "13   11189   13 to 17   17    Male          5340          Multi Race\n",
       "14   11201   18 to 21   20    Male         10047            Hispanic\n",
       "15   11210   22 to 50   25  Female         34795               Black\n",
       "16   11379   22 to 50   23  Female         43025  White not Hispanic\n",
       "17   11380   22 to 50   41    Male         54115               Asian\n",
       "18   11441     0 to 5    5  Female          1748            Hispanic\n",
       "19   11466   13 to 17   15  Female          4515            Hispanic\n",
       "20   11812     0 to 5    5    Male          1861            Hispanic\n",
       "21   11842     0 to 5    5    Male          1598            Hispanic\n",
       "22   11922   22 to 50   22  Female         46571            Hispanic\n",
       "23   11935     0 to 5    3    Male          1066            Hispanic\n",
       "24   12127   13 to 17   16  Female          3867               Black\n",
       "25   12137        51+   71  Female         57928  White not Hispanic\n",
       "26   12207   13 to 17   13  Female          4002  White not Hispanic\n",
       "27   12530   18 to 21   18  Female         10434               Asian\n",
       "28   12589        51+   63  Female         56134  White not Hispanic\n",
       "29   12834     0 to 5    1    Male          1070  White not Hispanic\n",
       "..     ...        ...  ...     ...           ...                 ...\n",
       "970  96840        51+   51  Female         48622  White not Hispanic\n",
       "971  96974   13 to 17   17  Female          5276  White not Hispanic\n",
       "972  97057   22 to 50   41    Male         50202  White not Hispanic\n",
       "973  97122   22 to 50   44    Male         46144            Hispanic\n",
       "974  97211     0 to 5    5  Female           240               Black\n",
       "975  97268   22 to 50   23    Male         35016  White not Hispanic\n",
       "976  97316        51+   75  Female         55956  White not Hispanic\n",
       "977  97426     0 to 5    1  Female          2359          Multi Race\n",
       "978  97793    6 to 12    9  Female          1048          Multi Race\n",
       "979  97930        51+   69  Female         53561  White not Hispanic\n",
       "980  98015   22 to 50   46    Male         52222            Hispanic\n",
       "981  98235   22 to 50   28    Male         29588            Hispanic\n",
       "982  98268   18 to 21   18  Female         10393  White not Hispanic\n",
       "983  98269   22 to 50   38    Male         54191  White not Hispanic\n",
       "984  98382        51+   54  Female         46312  White not Hispanic\n",
       "985  98428   22 to 50   24    Male         49449               Asian\n",
       "986  98522   13 to 17   13  Female          3097  White not Hispanic\n",
       "987  98547   13 to 17   13  Female          3392  White not Hispanic\n",
       "988  98562   13 to 17   15  Female          3641            Hispanic\n",
       "989  98683    6 to 12    8    Male          2441            Hispanic\n",
       "990  98792     0 to 5    5    Male          1411            Hispanic\n",
       "991  99046   22 to 50   30  Female         35231  White not Hispanic\n",
       "992  99114   18 to 21   18    Male          5298            Hispanic\n",
       "993  99147   18 to 21   20    Male          7288               Asian\n",
       "994  99529     0 to 5    2    Male          2258          Multi Race\n",
       "995  99622        51+   86  Female         57055  White not Hispanic\n",
       "996  99715   18 to 21   20    Male          7494            Hispanic\n",
       "997  99718   13 to 17   17  Female          3673          Multi Race\n",
       "998  99791    6 to 12   10    Male          3638            Hispanic\n",
       "999  99898   22 to 50   23    Male         26702  White not Hispanic\n",
       "\n",
       "[1000 rows x 6 columns]"
      ]
     },
     "execution_count": 5,
     "metadata": {},
     "output_type": "execute_result"
    }
   ],
   "source": [
    "\n",
    "data"
   ]
  },
  {
   "cell_type": "code",
   "execution_count": 6,
   "metadata": {},
   "outputs": [
    {
     "name": "stdout",
     "output_type": "stream",
     "text": [
      "        Id Age Cohort  Age  Gender  Expenditures           Ethnicity\n",
      "0    10210   13 to 17   17  Female          2113  White not Hispanic\n",
      "1    10409   22 to 50   37    Male         41924  White not Hispanic\n",
      "2    10486     0 to 5    3    Male          1454            Hispanic\n",
      "3    10538   18 to 21   19  Female          6400            Hispanic\n",
      "4    10568   13 to 17   13    Male          4412  White not Hispanic\n",
      "5    10690   13 to 17   15  Female          4566            Hispanic\n",
      "6    10711   13 to 17   13  Female          3915  White not Hispanic\n",
      "7    10778   13 to 17   17    Male          3873               Black\n",
      "8    10820   13 to 17   14  Female          5021  White not Hispanic\n",
      "9    10823   13 to 17   13    Male          2887            Hispanic\n",
      "10   11000   13 to 17   13  Female          4154  White not Hispanic\n",
      "11   11024   13 to 17   14    Male          3048            Hispanic\n",
      "12   11115   13 to 17   15  Female          2757  White not Hispanic\n",
      "13   11189   13 to 17   17    Male          5340          Multi Race\n",
      "14   11201   18 to 21   20    Male         10047            Hispanic\n",
      "15   11210   22 to 50   25  Female         34795               Black\n",
      "16   11379   22 to 50   23  Female         43025  White not Hispanic\n",
      "17   11380   22 to 50   41    Male         54115               Asian\n",
      "18   11441     0 to 5    5  Female          1748            Hispanic\n",
      "19   11466   13 to 17   15  Female          4515            Hispanic\n",
      "20   11812     0 to 5    5    Male          1861            Hispanic\n",
      "21   11842     0 to 5    5    Male          1598            Hispanic\n",
      "22   11922   22 to 50   22  Female         46571            Hispanic\n",
      "23   11935     0 to 5    3    Male          1066            Hispanic\n",
      "24   12127   13 to 17   16  Female          3867               Black\n",
      "25   12137        51+   71  Female         57928  White not Hispanic\n",
      "26   12207   13 to 17   13  Female          4002  White not Hispanic\n",
      "27   12530   18 to 21   18  Female         10434               Asian\n",
      "28   12589        51+   63  Female         56134  White not Hispanic\n",
      "29   12834     0 to 5    1    Male          1070  White not Hispanic\n",
      "..     ...        ...  ...     ...           ...                 ...\n",
      "970  96840        51+   51  Female         48622  White not Hispanic\n",
      "971  96974   13 to 17   17  Female          5276  White not Hispanic\n",
      "972  97057   22 to 50   41    Male         50202  White not Hispanic\n",
      "973  97122   22 to 50   44    Male         46144            Hispanic\n",
      "974  97211     0 to 5    5  Female           240               Black\n",
      "975  97268   22 to 50   23    Male         35016  White not Hispanic\n",
      "976  97316        51+   75  Female         55956  White not Hispanic\n",
      "977  97426     0 to 5    1  Female          2359          Multi Race\n",
      "978  97793    6 to 12    9  Female          1048          Multi Race\n",
      "979  97930        51+   69  Female         53561  White not Hispanic\n",
      "980  98015   22 to 50   46    Male         52222            Hispanic\n",
      "981  98235   22 to 50   28    Male         29588            Hispanic\n",
      "982  98268   18 to 21   18  Female         10393  White not Hispanic\n",
      "983  98269   22 to 50   38    Male         54191  White not Hispanic\n",
      "984  98382        51+   54  Female         46312  White not Hispanic\n",
      "985  98428   22 to 50   24    Male         49449               Asian\n",
      "986  98522   13 to 17   13  Female          3097  White not Hispanic\n",
      "987  98547   13 to 17   13  Female          3392  White not Hispanic\n",
      "988  98562   13 to 17   15  Female          3641            Hispanic\n",
      "989  98683    6 to 12    8    Male          2441            Hispanic\n",
      "990  98792     0 to 5    5    Male          1411            Hispanic\n",
      "991  99046   22 to 50   30  Female         35231  White not Hispanic\n",
      "992  99114   18 to 21   18    Male          5298            Hispanic\n",
      "993  99147   18 to 21   20    Male          7288               Asian\n",
      "994  99529     0 to 5    2    Male          2258          Multi Race\n",
      "995  99622        51+   86  Female         57055  White not Hispanic\n",
      "996  99715   18 to 21   20    Male          7494            Hispanic\n",
      "997  99718   13 to 17   17  Female          3673          Multi Race\n",
      "998  99791    6 to 12   10    Male          3638            Hispanic\n",
      "999  99898   22 to 50   23    Male         26702  White not Hispanic\n",
      "\n",
      "[1000 rows x 6 columns]\n"
     ]
    }
   ],
   "source": [
    "print(data)"
   ]
  },
  {
   "cell_type": "markdown",
   "metadata": {},
   "source": [
    "Выведем на экран первые 5 строк таблицы."
   ]
  },
  {
   "cell_type": "code",
   "execution_count": 7,
   "metadata": {},
   "outputs": [
    {
     "data": {
      "text/html": [
       "<div>\n",
       "<style>\n",
       "    .dataframe thead tr:only-child th {\n",
       "        text-align: right;\n",
       "    }\n",
       "\n",
       "    .dataframe thead th {\n",
       "        text-align: left;\n",
       "    }\n",
       "\n",
       "    .dataframe tbody tr th {\n",
       "        vertical-align: top;\n",
       "    }\n",
       "</style>\n",
       "<table border=\"1\" class=\"dataframe\">\n",
       "  <thead>\n",
       "    <tr style=\"text-align: right;\">\n",
       "      <th></th>\n",
       "      <th>Id</th>\n",
       "      <th>Age Cohort</th>\n",
       "      <th>Age</th>\n",
       "      <th>Gender</th>\n",
       "      <th>Expenditures</th>\n",
       "      <th>Ethnicity</th>\n",
       "    </tr>\n",
       "  </thead>\n",
       "  <tbody>\n",
       "    <tr>\n",
       "      <th>0</th>\n",
       "      <td>10210</td>\n",
       "      <td>13 to 17</td>\n",
       "      <td>17</td>\n",
       "      <td>Female</td>\n",
       "      <td>2113</td>\n",
       "      <td>White not Hispanic</td>\n",
       "    </tr>\n",
       "    <tr>\n",
       "      <th>1</th>\n",
       "      <td>10409</td>\n",
       "      <td>22 to 50</td>\n",
       "      <td>37</td>\n",
       "      <td>Male</td>\n",
       "      <td>41924</td>\n",
       "      <td>White not Hispanic</td>\n",
       "    </tr>\n",
       "    <tr>\n",
       "      <th>2</th>\n",
       "      <td>10486</td>\n",
       "      <td>0 to 5</td>\n",
       "      <td>3</td>\n",
       "      <td>Male</td>\n",
       "      <td>1454</td>\n",
       "      <td>Hispanic</td>\n",
       "    </tr>\n",
       "    <tr>\n",
       "      <th>3</th>\n",
       "      <td>10538</td>\n",
       "      <td>18 to 21</td>\n",
       "      <td>19</td>\n",
       "      <td>Female</td>\n",
       "      <td>6400</td>\n",
       "      <td>Hispanic</td>\n",
       "    </tr>\n",
       "    <tr>\n",
       "      <th>4</th>\n",
       "      <td>10568</td>\n",
       "      <td>13 to 17</td>\n",
       "      <td>13</td>\n",
       "      <td>Male</td>\n",
       "      <td>4412</td>\n",
       "      <td>White not Hispanic</td>\n",
       "    </tr>\n",
       "  </tbody>\n",
       "</table>\n",
       "</div>"
      ],
      "text/plain": [
       "      Id Age Cohort  Age  Gender  Expenditures           Ethnicity\n",
       "0  10210   13 to 17   17  Female          2113  White not Hispanic\n",
       "1  10409   22 to 50   37    Male         41924  White not Hispanic\n",
       "2  10486     0 to 5    3    Male          1454            Hispanic\n",
       "3  10538   18 to 21   19  Female          6400            Hispanic\n",
       "4  10568   13 to 17   13    Male          4412  White not Hispanic"
      ]
     },
     "execution_count": 7,
     "metadata": {},
     "output_type": "execute_result"
    }
   ],
   "source": [
    "data.head()"
   ]
  },
  {
   "cell_type": "markdown",
   "metadata": {},
   "source": [
    "Теперь выведем на экран последние 5 строк."
   ]
  },
  {
   "cell_type": "code",
   "execution_count": 8,
   "metadata": {},
   "outputs": [
    {
     "data": {
      "text/html": [
       "<div>\n",
       "<style>\n",
       "    .dataframe thead tr:only-child th {\n",
       "        text-align: right;\n",
       "    }\n",
       "\n",
       "    .dataframe thead th {\n",
       "        text-align: left;\n",
       "    }\n",
       "\n",
       "    .dataframe tbody tr th {\n",
       "        vertical-align: top;\n",
       "    }\n",
       "</style>\n",
       "<table border=\"1\" class=\"dataframe\">\n",
       "  <thead>\n",
       "    <tr style=\"text-align: right;\">\n",
       "      <th></th>\n",
       "      <th>Id</th>\n",
       "      <th>Age Cohort</th>\n",
       "      <th>Age</th>\n",
       "      <th>Gender</th>\n",
       "      <th>Expenditures</th>\n",
       "      <th>Ethnicity</th>\n",
       "    </tr>\n",
       "  </thead>\n",
       "  <tbody>\n",
       "    <tr>\n",
       "      <th>995</th>\n",
       "      <td>99622</td>\n",
       "      <td>51+</td>\n",
       "      <td>86</td>\n",
       "      <td>Female</td>\n",
       "      <td>57055</td>\n",
       "      <td>White not Hispanic</td>\n",
       "    </tr>\n",
       "    <tr>\n",
       "      <th>996</th>\n",
       "      <td>99715</td>\n",
       "      <td>18 to 21</td>\n",
       "      <td>20</td>\n",
       "      <td>Male</td>\n",
       "      <td>7494</td>\n",
       "      <td>Hispanic</td>\n",
       "    </tr>\n",
       "    <tr>\n",
       "      <th>997</th>\n",
       "      <td>99718</td>\n",
       "      <td>13 to 17</td>\n",
       "      <td>17</td>\n",
       "      <td>Female</td>\n",
       "      <td>3673</td>\n",
       "      <td>Multi Race</td>\n",
       "    </tr>\n",
       "    <tr>\n",
       "      <th>998</th>\n",
       "      <td>99791</td>\n",
       "      <td>6 to 12</td>\n",
       "      <td>10</td>\n",
       "      <td>Male</td>\n",
       "      <td>3638</td>\n",
       "      <td>Hispanic</td>\n",
       "    </tr>\n",
       "    <tr>\n",
       "      <th>999</th>\n",
       "      <td>99898</td>\n",
       "      <td>22 to 50</td>\n",
       "      <td>23</td>\n",
       "      <td>Male</td>\n",
       "      <td>26702</td>\n",
       "      <td>White not Hispanic</td>\n",
       "    </tr>\n",
       "  </tbody>\n",
       "</table>\n",
       "</div>"
      ],
      "text/plain": [
       "        Id Age Cohort  Age  Gender  Expenditures           Ethnicity\n",
       "995  99622        51+   86  Female         57055  White not Hispanic\n",
       "996  99715   18 to 21   20    Male          7494            Hispanic\n",
       "997  99718   13 to 17   17  Female          3673          Multi Race\n",
       "998  99791    6 to 12   10    Male          3638            Hispanic\n",
       "999  99898   22 to 50   23    Male         26702  White not Hispanic"
      ]
     },
     "execution_count": 8,
     "metadata": {},
     "output_type": "execute_result"
    }
   ],
   "source": [
    "data.tail()"
   ]
  },
  {
   "cell_type": "markdown",
   "metadata": {},
   "source": [
    "Выведем размер данных и названия столбцов"
   ]
  },
  {
   "cell_type": "code",
   "execution_count": 9,
   "metadata": {},
   "outputs": [
    {
     "name": "stdout",
     "output_type": "stream",
     "text": [
      "(1000, 6)\n",
      "Index(['Id', 'Age Cohort', 'Age', 'Gender', 'Expenditures', 'Ethnicity'], dtype='object')\n"
     ]
    }
   ],
   "source": [
    "print(data.shape)\n",
    "print(data.columns)"
   ]
  },
  {
   "cell_type": "markdown",
   "metadata": {},
   "source": [
    "Выведем на экран количественные признаки."
   ]
  },
  {
   "cell_type": "code",
   "execution_count": 10,
   "metadata": {},
   "outputs": [
    {
     "data": {
      "text/html": [
       "<div>\n",
       "<style>\n",
       "    .dataframe thead tr:only-child th {\n",
       "        text-align: right;\n",
       "    }\n",
       "\n",
       "    .dataframe thead th {\n",
       "        text-align: left;\n",
       "    }\n",
       "\n",
       "    .dataframe tbody tr th {\n",
       "        vertical-align: top;\n",
       "    }\n",
       "</style>\n",
       "<table border=\"1\" class=\"dataframe\">\n",
       "  <thead>\n",
       "    <tr style=\"text-align: right;\">\n",
       "      <th></th>\n",
       "      <th>Id</th>\n",
       "      <th>Age</th>\n",
       "      <th>Expenditures</th>\n",
       "    </tr>\n",
       "  </thead>\n",
       "  <tbody>\n",
       "    <tr>\n",
       "      <th>count</th>\n",
       "      <td>1000.000000</td>\n",
       "      <td>1000.000000</td>\n",
       "      <td>1000.000000</td>\n",
       "    </tr>\n",
       "    <tr>\n",
       "      <th>mean</th>\n",
       "      <td>54662.846000</td>\n",
       "      <td>22.800000</td>\n",
       "      <td>18065.786000</td>\n",
       "    </tr>\n",
       "    <tr>\n",
       "      <th>std</th>\n",
       "      <td>25643.673401</td>\n",
       "      <td>18.462038</td>\n",
       "      <td>19542.830884</td>\n",
       "    </tr>\n",
       "    <tr>\n",
       "      <th>min</th>\n",
       "      <td>10210.000000</td>\n",
       "      <td>0.000000</td>\n",
       "      <td>222.000000</td>\n",
       "    </tr>\n",
       "    <tr>\n",
       "      <th>25%</th>\n",
       "      <td>31808.750000</td>\n",
       "      <td>12.000000</td>\n",
       "      <td>2898.750000</td>\n",
       "    </tr>\n",
       "    <tr>\n",
       "      <th>50%</th>\n",
       "      <td>55384.500000</td>\n",
       "      <td>18.000000</td>\n",
       "      <td>7026.000000</td>\n",
       "    </tr>\n",
       "    <tr>\n",
       "      <th>75%</th>\n",
       "      <td>76134.750000</td>\n",
       "      <td>26.000000</td>\n",
       "      <td>37712.750000</td>\n",
       "    </tr>\n",
       "    <tr>\n",
       "      <th>max</th>\n",
       "      <td>99898.000000</td>\n",
       "      <td>95.000000</td>\n",
       "      <td>75098.000000</td>\n",
       "    </tr>\n",
       "  </tbody>\n",
       "</table>\n",
       "</div>"
      ],
      "text/plain": [
       "                 Id          Age  Expenditures\n",
       "count   1000.000000  1000.000000   1000.000000\n",
       "mean   54662.846000    22.800000  18065.786000\n",
       "std    25643.673401    18.462038  19542.830884\n",
       "min    10210.000000     0.000000    222.000000\n",
       "25%    31808.750000    12.000000   2898.750000\n",
       "50%    55384.500000    18.000000   7026.000000\n",
       "75%    76134.750000    26.000000  37712.750000\n",
       "max    99898.000000    95.000000  75098.000000"
      ]
     },
     "execution_count": 10,
     "metadata": {},
     "output_type": "execute_result"
    }
   ],
   "source": [
    "data.describe()"
   ]
  },
  {
   "cell_type": "markdown",
   "metadata": {},
   "source": [
    "Вычислим корреляцию между признаками и выведем её на экран."
   ]
  },
  {
   "cell_type": "code",
   "execution_count": 12,
   "metadata": {},
   "outputs": [
    {
     "data": {
      "text/html": [
       "<div>\n",
       "<style>\n",
       "    .dataframe thead tr:only-child th {\n",
       "        text-align: right;\n",
       "    }\n",
       "\n",
       "    .dataframe thead th {\n",
       "        text-align: left;\n",
       "    }\n",
       "\n",
       "    .dataframe tbody tr th {\n",
       "        vertical-align: top;\n",
       "    }\n",
       "</style>\n",
       "<table border=\"1\" class=\"dataframe\">\n",
       "  <thead>\n",
       "    <tr style=\"text-align: right;\">\n",
       "      <th></th>\n",
       "      <th>Id</th>\n",
       "      <th>Age</th>\n",
       "      <th>Expenditures</th>\n",
       "    </tr>\n",
       "  </thead>\n",
       "  <tbody>\n",
       "    <tr>\n",
       "      <th>Id</th>\n",
       "      <td>1.000000</td>\n",
       "      <td>0.056956</td>\n",
       "      <td>0.056928</td>\n",
       "    </tr>\n",
       "    <tr>\n",
       "      <th>Age</th>\n",
       "      <td>0.056956</td>\n",
       "      <td>1.000000</td>\n",
       "      <td>0.843242</td>\n",
       "    </tr>\n",
       "    <tr>\n",
       "      <th>Expenditures</th>\n",
       "      <td>0.056928</td>\n",
       "      <td>0.843242</td>\n",
       "      <td>1.000000</td>\n",
       "    </tr>\n",
       "  </tbody>\n",
       "</table>\n",
       "</div>"
      ],
      "text/plain": [
       "                    Id       Age  Expenditures\n",
       "Id            1.000000  0.056956      0.056928\n",
       "Age           0.056956  1.000000      0.843242\n",
       "Expenditures  0.056928  0.843242      1.000000"
      ]
     },
     "execution_count": 12,
     "metadata": {},
     "output_type": "execute_result"
    }
   ],
   "source": [
    "data.corr()"
   ]
  },
  {
   "cell_type": "markdown",
   "metadata": {},
   "source": [
    "Как видно по таблице - сильная корреляция между возрастом человека и его расходами."
   ]
  },
  {
   "cell_type": "code",
   "execution_count": 15,
   "metadata": {},
   "outputs": [
    {
     "data": {
      "image/png": "[encoded data removed]",
      "text/plain": [
       "<matplotlib.figure.Figure at 0x1cf4bb4c2e8>"
      ]
     },
     "metadata": {},
     "output_type": "display_data"
    }
   ],
   "source": [
    "from pandas.plotting import scatter_matrix \n",
    "scatter_matrix(data, alpha = .01, figsize = (10, 10)) \n",
    "pass"
   ]
  },
  {
   "cell_type": "code",
   "execution_count": 16,
   "metadata": {
    "scrolled": true
   },
   "outputs": [
    {
     "data": {
      "image/png": "[encoded data removed]",
      "text/plain": [
       "<matplotlib.figure.Figure at 0x1cf4c4219b0>"
      ]
     },
     "metadata": {},
     "output_type": "display_data"
    }
   ],
   "source": [
    "plt.plot(data['Age'], data['Expenditures'], 'o', alpha = 0.05) \n",
    "plt.xlabel('Age') \n",
    "plt.ylabel('Expenditures') \n",
    "plt.title('Age vs Expenditures') \n",
    "pass"
   ]
  },
  {
   "cell_type": "markdown",
   "metadata": {},
   "source": [
    "Выше представлен график зависимости расходов от возраста."
   ]
  },
  {
   "cell_type": "markdown",
   "metadata": {},
   "source": [
    "Выведем на экран людей расходы которых больше 10000."
   ]
  },
  {
   "cell_type": "code",
   "execution_count": 19,
   "metadata": {},
   "outputs": [
    {
     "data": {
      "text/plain": [
       "0      False\n",
       "1       True\n",
       "2      False\n",
       "3      False\n",
       "4      False\n",
       "5      False\n",
       "6      False\n",
       "7      False\n",
       "8      False\n",
       "9      False\n",
       "10     False\n",
       "11     False\n",
       "12     False\n",
       "13     False\n",
       "14      True\n",
       "15      True\n",
       "16      True\n",
       "17      True\n",
       "18     False\n",
       "19     False\n",
       "20     False\n",
       "21     False\n",
       "22      True\n",
       "23     False\n",
       "24     False\n",
       "25      True\n",
       "26     False\n",
       "27      True\n",
       "28      True\n",
       "29     False\n",
       "       ...  \n",
       "970     True\n",
       "971    False\n",
       "972     True\n",
       "973     True\n",
       "974    False\n",
       "975     True\n",
       "976     True\n",
       "977    False\n",
       "978    False\n",
       "979     True\n",
       "980     True\n",
       "981     True\n",
       "982     True\n",
       "983     True\n",
       "984     True\n",
       "985     True\n",
       "986    False\n",
       "987    False\n",
       "988    False\n",
       "989    False\n",
       "990    False\n",
       "991     True\n",
       "992    False\n",
       "993    False\n",
       "994    False\n",
       "995     True\n",
       "996    False\n",
       "997    False\n",
       "998    False\n",
       "999     True\n",
       "Name: Expenditures, Length: 1000, dtype: bool"
      ]
     },
     "execution_count": 19,
     "metadata": {},
     "output_type": "execute_result"
    }
   ],
   "source": [
    "data['Expenditures'] > 10000"
   ]
  },
  {
   "cell_type": "code",
   "execution_count": 40,
   "metadata": {},
   "outputs": [
    {
     "data": {
      "image/png": "[encoded data removed]",
      "text/plain": [
       "<matplotlib.figure.Figure at 0x1cf4c5f0a20>"
      ]
     },
     "metadata": {},
     "output_type": "display_data"
    }
   ],
   "source": [
    "plt.figure(figsize = (20, 20)) \n",
    "\n",
    "plt.scatter(data[data['Gender'] == 'Female']['Expenditures'], \n",
    "data[data['Gender'] == 'Female']['Age'], \n",
    "alpha = 0.5, \n",
    "label = 'Female', \n",
    "color = 'b') \n",
    "\n",
    "plt.scatter(data[data['Gender'] == 'Male']['Expenditures'], \n",
    "data[data['Gender'] == 'Male']['Age'], \n",
    "alpha = 0.5, \n",
    "label = 'Male', \n",
    "color = 'r') \n",
    "\n",
    "plt.xlabel('Expenditures') \n",
    "plt.ylabel('Age')  \n",
    "plt.xticks(range(0, 100)) \n",
    "plt.xlim(222, 80000)\n",
    "plt.legend()\n",
    "plt.grid()"
   ]
  },
  {
   "cell_type": "markdown",
   "metadata": {},
   "source": [
    "В возрасте до 21 лет у мужчин и женщин примено одинаковые расходы."
   ]
  },
  {
   "cell_type": "markdown",
   "metadata": {},
   "source": [
    "Подготовка данных."
   ]
  },
  {
   "cell_type": "markdown",
   "metadata": {},
   "source": [
    "Разделим признаки на категориальные и количественные:"
   ]
  },
  {
   "cell_type": "code",
   "execution_count": 41,
   "metadata": {},
   "outputs": [
    {
     "name": "stdout",
     "output_type": "stream",
     "text": [
      "Categorical: \n",
      "['Age Cohort', 'Gender', 'Ethnicity']\n",
      "Numerical: \n",
      "['Id', 'Age', 'Expenditures']\n",
      "\n",
      "Size of table: (1000, 6)\n"
     ]
    }
   ],
   "source": [
    "categorical_cols = [col for col in data.columns if data[col].dtype.name == \"object\"]\n",
    "numerical_cols = [col for col in data.columns if data[col].dtype.name != \"object\"]\n",
    "print(\"Categorical: \\n\" + str(categorical_cols))\n",
    "print(\"Numerical: \\n\" + str(numerical_cols))\n",
    "print(\"\\nSize of table: \" + str(data.shape))"
   ]
  },
  {
   "cell_type": "markdown",
   "metadata": {},
   "source": [
    "Уберём столбец возрастной группы, так как это признак будет предсказываться:"
   ]
  },
  {
   "cell_type": "code",
   "execution_count": 42,
   "metadata": {
    "collapsed": true
   },
   "outputs": [],
   "source": [
    "y = data['Age Cohort']\n",
    "data = data.drop('Age Cohort', axis=1)"
   ]
  },
  {
   "cell_type": "markdown",
   "metadata": {},
   "source": [
    "Разделим заново:"
   ]
  },
  {
   "cell_type": "code",
   "execution_count": 43,
   "metadata": {},
   "outputs": [
    {
     "name": "stdout",
     "output_type": "stream",
     "text": [
      "Categorical: \n",
      "['Gender', 'Ethnicity']\n",
      "Numerical: \n",
      "['Id', 'Age', 'Expenditures']\n",
      "\n",
      "Size of table: (1000, 5)\n"
     ]
    }
   ],
   "source": [
    "categorical_cols = [col for col in data.columns if data[col].dtype.name == \"object\"]\n",
    "numerical_cols = [col for col in data.columns if data[col].dtype.name != \"object\"]\n",
    "print(\"Categorical: \\n\" + str(categorical_cols))\n",
    "print(\"Numerical: \\n\" + str(numerical_cols))\n",
    "print(\"\\nSize of table: \" + str(data.shape))"
   ]
  },
  {
   "cell_type": "markdown",
   "metadata": {},
   "source": [
    "Проверим отсутствующие значения:"
   ]
  },
  {
   "cell_type": "code",
   "execution_count": 44,
   "metadata": {},
   "outputs": [
    {
     "name": "stdout",
     "output_type": "stream",
     "text": [
      "Numerical:\n",
      "Id              1000\n",
      "Age             1000\n",
      "Expenditures    1000\n",
      "dtype: int64\n",
      "\n",
      "Categorical:\n",
      "Gender       1000\n",
      "Ethnicity    1000\n",
      "dtype: int64\n"
     ]
    }
   ],
   "source": [
    "print(\"Numerical:\")\n",
    "print(data[numerical_cols].count())\n",
    "print(\"\\nCategorical:\")\n",
    "print(data[categorical_cols].count())"
   ]
  },
  {
   "cell_type": "markdown",
   "metadata": {},
   "source": [
    "Для всех признаков данные заполнены."
   ]
  },
  {
   "cell_type": "markdown",
   "metadata": {},
   "source": [
    "Векторизация."
   ]
  },
  {
   "cell_type": "code",
   "execution_count": 47,
   "metadata": {},
   "outputs": [
    {
     "name": "stdout",
     "output_type": "stream",
     "text": [
      "['Gender'] ['Ethnicity']\n"
     ]
    }
   ],
   "source": [
    "data_describe = data.describe(include = [object])\n",
    "binary_columns = [c for c in categorical_cols if data_describe[c]['unique'] == 2]\n",
    "nonbinary_columns = [c for c in categorical_cols if data_describe[c]['unique'] > 2]\n",
    "print(binary_columns, nonbinary_columns)"
   ]
  },
  {
   "cell_type": "code",
   "execution_count": 50,
   "metadata": {},
   "outputs": [
    {
     "data": {
      "text/plain": [
       "array(['White not Hispanic', 'Hispanic', 'Black', 'Multi Race', 'Asian',\n",
       "       'American Indian', 'Other', 'Native Hawaiian'], dtype=object)"
      ]
     },
     "execution_count": 50,
     "metadata": {},
     "output_type": "execute_result"
    }
   ],
   "source": [
    "data['Ethnicity'].unique()"
   ]
  },
  {
   "cell_type": "markdown",
   "metadata": {},
   "source": [
    "В задаче Ethnicity принимает 8 разных значений."
   ]
  },
  {
   "cell_type": "code",
   "execution_count": 51,
   "metadata": {},
   "outputs": [
    {
     "name": "stdout",
     "output_type": "stream",
     "text": [
      "Index(['Ethnicity_American Indian', 'Ethnicity_Asian', 'Ethnicity_Black',\n",
      "       'Ethnicity_Hispanic', 'Ethnicity_Multi Race',\n",
      "       'Ethnicity_Native Hawaiian', 'Ethnicity_Other',\n",
      "       'Ethnicity_White not Hispanic'],\n",
      "      dtype='object')\n"
     ]
    }
   ],
   "source": [
    "data_nonbinary = pd.get_dummies(data[nonbinary_columns])\n",
    "print(data_nonbinary.columns)"
   ]
  },
  {
   "cell_type": "markdown",
   "metadata": {},
   "source": [
    "Выше произведена векторизация.Теперь произведём нормализацию."
   ]
  },
  {
   "cell_type": "code",
   "execution_count": 53,
   "metadata": {},
   "outputs": [
    {
     "data": {
      "text/html": [
       "<div>\n",
       "<style>\n",
       "    .dataframe thead tr:only-child th {\n",
       "        text-align: right;\n",
       "    }\n",
       "\n",
       "    .dataframe thead th {\n",
       "        text-align: left;\n",
       "    }\n",
       "\n",
       "    .dataframe tbody tr th {\n",
       "        vertical-align: top;\n",
       "    }\n",
       "</style>\n",
       "<table border=\"1\" class=\"dataframe\">\n",
       "  <thead>\n",
       "    <tr style=\"text-align: right;\">\n",
       "      <th></th>\n",
       "      <th>Id</th>\n",
       "      <th>Age</th>\n",
       "      <th>Expenditures</th>\n",
       "    </tr>\n",
       "  </thead>\n",
       "  <tbody>\n",
       "    <tr>\n",
       "      <th>count</th>\n",
       "      <td>1000.000000</td>\n",
       "      <td>1000.000000</td>\n",
       "      <td>1000.000000</td>\n",
       "    </tr>\n",
       "    <tr>\n",
       "      <th>mean</th>\n",
       "      <td>54662.846000</td>\n",
       "      <td>22.800000</td>\n",
       "      <td>18065.786000</td>\n",
       "    </tr>\n",
       "    <tr>\n",
       "      <th>std</th>\n",
       "      <td>25643.673401</td>\n",
       "      <td>18.462038</td>\n",
       "      <td>19542.830884</td>\n",
       "    </tr>\n",
       "    <tr>\n",
       "      <th>min</th>\n",
       "      <td>10210.000000</td>\n",
       "      <td>0.000000</td>\n",
       "      <td>222.000000</td>\n",
       "    </tr>\n",
       "    <tr>\n",
       "      <th>25%</th>\n",
       "      <td>31808.750000</td>\n",
       "      <td>12.000000</td>\n",
       "      <td>2898.750000</td>\n",
       "    </tr>\n",
       "    <tr>\n",
       "      <th>50%</th>\n",
       "      <td>55384.500000</td>\n",
       "      <td>18.000000</td>\n",
       "      <td>7026.000000</td>\n",
       "    </tr>\n",
       "    <tr>\n",
       "      <th>75%</th>\n",
       "      <td>76134.750000</td>\n",
       "      <td>26.000000</td>\n",
       "      <td>37712.750000</td>\n",
       "    </tr>\n",
       "    <tr>\n",
       "      <th>max</th>\n",
       "      <td>99898.000000</td>\n",
       "      <td>95.000000</td>\n",
       "      <td>75098.000000</td>\n",
       "    </tr>\n",
       "  </tbody>\n",
       "</table>\n",
       "</div>"
      ],
      "text/plain": [
       "                 Id          Age  Expenditures\n",
       "count   1000.000000  1000.000000   1000.000000\n",
       "mean   54662.846000    22.800000  18065.786000\n",
       "std    25643.673401    18.462038  19542.830884\n",
       "min    10210.000000     0.000000    222.000000\n",
       "25%    31808.750000    12.000000   2898.750000\n",
       "50%    55384.500000    18.000000   7026.000000\n",
       "75%    76134.750000    26.000000  37712.750000\n",
       "max    99898.000000    95.000000  75098.000000"
      ]
     },
     "execution_count": 53,
     "metadata": {},
     "output_type": "execute_result"
    }
   ],
   "source": [
    "data_numerical = data[numerical_cols]\n",
    "data_numerical.describe()"
   ]
  },
  {
   "cell_type": "code",
   "execution_count": 70,
   "metadata": {},
   "outputs": [
    {
     "data": {
      "text/plain": [
       "count     1000\n",
       "unique       2\n",
       "top          0\n",
       "freq       503\n",
       "Name: Gender, dtype: int64"
      ]
     },
     "execution_count": 70,
     "metadata": {},
     "output_type": "execute_result"
    }
   ],
   "source": [
    "data.at[data['Gender'] == 'Male', 'Gender'] = 1\n",
    "data.at[data['Gender'] == 'Female', 'Gender'] = 0\n",
    "data['Gender'].describe()"
   ]
  },
  {
   "cell_type": "markdown",
   "metadata": {},
   "source": [
    "Соеденим всё в одну таблицу:"
   ]
  },
  {
   "cell_type": "code",
   "execution_count": 71,
   "metadata": {},
   "outputs": [
    {
     "name": "stdout",
     "output_type": "stream",
     "text": [
      "(1000, 12)\n"
     ]
    }
   ],
   "source": [
    "data = pd.concat((data_numerical, data_nonbinary, data[binary_columns]), axis = 1)\n",
    "print(data.shape)"
   ]
  },
  {
   "cell_type": "code",
   "execution_count": 72,
   "metadata": {},
   "outputs": [
    {
     "data": {
      "text/html": [
       "<div>\n",
       "<style>\n",
       "    .dataframe thead tr:only-child th {\n",
       "        text-align: right;\n",
       "    }\n",
       "\n",
       "    .dataframe thead th {\n",
       "        text-align: left;\n",
       "    }\n",
       "\n",
       "    .dataframe tbody tr th {\n",
       "        vertical-align: top;\n",
       "    }\n",
       "</style>\n",
       "<table border=\"1\" class=\"dataframe\">\n",
       "  <thead>\n",
       "    <tr style=\"text-align: right;\">\n",
       "      <th></th>\n",
       "      <th>Id</th>\n",
       "      <th>Age</th>\n",
       "      <th>Expenditures</th>\n",
       "      <th>Ethnicity_American Indian</th>\n",
       "      <th>Ethnicity_Asian</th>\n",
       "      <th>Ethnicity_Black</th>\n",
       "      <th>Ethnicity_Hispanic</th>\n",
       "      <th>Ethnicity_Multi Race</th>\n",
       "      <th>Ethnicity_Native Hawaiian</th>\n",
       "      <th>Ethnicity_Other</th>\n",
       "      <th>Ethnicity_White not Hispanic</th>\n",
       "    </tr>\n",
       "  </thead>\n",
       "  <tbody>\n",
       "    <tr>\n",
       "      <th>count</th>\n",
       "      <td>1000.000000</td>\n",
       "      <td>1000.000000</td>\n",
       "      <td>1000.000000</td>\n",
       "      <td>1000.000000</td>\n",
       "      <td>1000.000000</td>\n",
       "      <td>1000.000000</td>\n",
       "      <td>1000.000000</td>\n",
       "      <td>1000.000000</td>\n",
       "      <td>1000.000000</td>\n",
       "      <td>1000.000000</td>\n",
       "      <td>1000.000000</td>\n",
       "    </tr>\n",
       "    <tr>\n",
       "      <th>mean</th>\n",
       "      <td>54662.846000</td>\n",
       "      <td>22.800000</td>\n",
       "      <td>18065.786000</td>\n",
       "      <td>0.004000</td>\n",
       "      <td>0.129000</td>\n",
       "      <td>0.059000</td>\n",
       "      <td>0.376000</td>\n",
       "      <td>0.026000</td>\n",
       "      <td>0.003000</td>\n",
       "      <td>0.002000</td>\n",
       "      <td>0.401000</td>\n",
       "    </tr>\n",
       "    <tr>\n",
       "      <th>std</th>\n",
       "      <td>25643.673401</td>\n",
       "      <td>18.462038</td>\n",
       "      <td>19542.830884</td>\n",
       "      <td>0.063151</td>\n",
       "      <td>0.335368</td>\n",
       "      <td>0.235743</td>\n",
       "      <td>0.484622</td>\n",
       "      <td>0.159215</td>\n",
       "      <td>0.054717</td>\n",
       "      <td>0.044699</td>\n",
       "      <td>0.490346</td>\n",
       "    </tr>\n",
       "    <tr>\n",
       "      <th>min</th>\n",
       "      <td>10210.000000</td>\n",
       "      <td>0.000000</td>\n",
       "      <td>222.000000</td>\n",
       "      <td>0.000000</td>\n",
       "      <td>0.000000</td>\n",
       "      <td>0.000000</td>\n",
       "      <td>0.000000</td>\n",
       "      <td>0.000000</td>\n",
       "      <td>0.000000</td>\n",
       "      <td>0.000000</td>\n",
       "      <td>0.000000</td>\n",
       "    </tr>\n",
       "    <tr>\n",
       "      <th>25%</th>\n",
       "      <td>31808.750000</td>\n",
       "      <td>12.000000</td>\n",
       "      <td>2898.750000</td>\n",
       "      <td>0.000000</td>\n",
       "      <td>0.000000</td>\n",
       "      <td>0.000000</td>\n",
       "      <td>0.000000</td>\n",
       "      <td>0.000000</td>\n",
       "      <td>0.000000</td>\n",
       "      <td>0.000000</td>\n",
       "      <td>0.000000</td>\n",
       "    </tr>\n",
       "    <tr>\n",
       "      <th>50%</th>\n",
       "      <td>55384.500000</td>\n",
       "      <td>18.000000</td>\n",
       "      <td>7026.000000</td>\n",
       "      <td>0.000000</td>\n",
       "      <td>0.000000</td>\n",
       "      <td>0.000000</td>\n",
       "      <td>0.000000</td>\n",
       "      <td>0.000000</td>\n",
       "      <td>0.000000</td>\n",
       "      <td>0.000000</td>\n",
       "      <td>0.000000</td>\n",
       "    </tr>\n",
       "    <tr>\n",
       "      <th>75%</th>\n",
       "      <td>76134.750000</td>\n",
       "      <td>26.000000</td>\n",
       "      <td>37712.750000</td>\n",
       "      <td>0.000000</td>\n",
       "      <td>0.000000</td>\n",
       "      <td>0.000000</td>\n",
       "      <td>1.000000</td>\n",
       "      <td>0.000000</td>\n",
       "      <td>0.000000</td>\n",
       "      <td>0.000000</td>\n",
       "      <td>1.000000</td>\n",
       "    </tr>\n",
       "    <tr>\n",
       "      <th>max</th>\n",
       "      <td>99898.000000</td>\n",
       "      <td>95.000000</td>\n",
       "      <td>75098.000000</td>\n",
       "      <td>1.000000</td>\n",
       "      <td>1.000000</td>\n",
       "      <td>1.000000</td>\n",
       "      <td>1.000000</td>\n",
       "      <td>1.000000</td>\n",
       "      <td>1.000000</td>\n",
       "      <td>1.000000</td>\n",
       "      <td>1.000000</td>\n",
       "    </tr>\n",
       "  </tbody>\n",
       "</table>\n",
       "</div>"
      ],
      "text/plain": [
       "                 Id          Age  Expenditures  Ethnicity_American Indian  \\\n",
       "count   1000.000000  1000.000000   1000.000000                1000.000000   \n",
       "mean   54662.846000    22.800000  18065.786000                   0.004000   \n",
       "std    25643.673401    18.462038  19542.830884                   0.063151   \n",
       "min    10210.000000     0.000000    222.000000                   0.000000   \n",
       "25%    31808.750000    12.000000   2898.750000                   0.000000   \n",
       "50%    55384.500000    18.000000   7026.000000                   0.000000   \n",
       "75%    76134.750000    26.000000  37712.750000                   0.000000   \n",
       "max    99898.000000    95.000000  75098.000000                   1.000000   \n",
       "\n",
       "       Ethnicity_Asian  Ethnicity_Black  Ethnicity_Hispanic  \\\n",
       "count      1000.000000      1000.000000         1000.000000   \n",
       "mean          0.129000         0.059000            0.376000   \n",
       "std           0.335368         0.235743            0.484622   \n",
       "min           0.000000         0.000000            0.000000   \n",
       "25%           0.000000         0.000000            0.000000   \n",
       "50%           0.000000         0.000000            0.000000   \n",
       "75%           0.000000         0.000000            1.000000   \n",
       "max           1.000000         1.000000            1.000000   \n",
       "\n",
       "       Ethnicity_Multi Race  Ethnicity_Native Hawaiian  Ethnicity_Other  \\\n",
       "count           1000.000000                1000.000000      1000.000000   \n",
       "mean               0.026000                   0.003000         0.002000   \n",
       "std                0.159215                   0.054717         0.044699   \n",
       "min                0.000000                   0.000000         0.000000   \n",
       "25%                0.000000                   0.000000         0.000000   \n",
       "50%                0.000000                   0.000000         0.000000   \n",
       "75%                0.000000                   0.000000         0.000000   \n",
       "max                1.000000                   1.000000         1.000000   \n",
       "\n",
       "       Ethnicity_White not Hispanic  \n",
       "count                   1000.000000  \n",
       "mean                       0.401000  \n",
       "std                        0.490346  \n",
       "min                        0.000000  \n",
       "25%                        0.000000  \n",
       "50%                        0.000000  \n",
       "75%                        1.000000  \n",
       "max                        1.000000  "
      ]
     },
     "execution_count": 72,
     "metadata": {},
     "output_type": "execute_result"
    }
   ],
   "source": [
    "data.describe()"
   ]
  },
  {
   "cell_type": "markdown",
   "metadata": {},
   "source": [
    "X и Y."
   ]
  },
  {
   "cell_type": "code",
   "execution_count": 73,
   "metadata": {},
   "outputs": [],
   "source": [
    "\n",
    "X = data\n",
    "feature_names = X.columns"
   ]
  },
  {
   "cell_type": "code",
   "execution_count": 74,
   "metadata": {},
   "outputs": [
    {
     "data": {
      "text/plain": [
       "count         1000\n",
       "unique           6\n",
       "top       22 to 50\n",
       "freq           226\n",
       "Name: Age Cohort, dtype: object"
      ]
     },
     "execution_count": 74,
     "metadata": {},
     "output_type": "execute_result"
    }
   ],
   "source": [
    "y.describe()\n"
   ]
  },
  {
   "cell_type": "code",
   "execution_count": 75,
   "metadata": {},
   "outputs": [
    {
     "data": {
      "text/plain": [
       "pandas.core.indexes.base.Index"
      ]
     },
     "execution_count": 75,
     "metadata": {},
     "output_type": "execute_result"
    }
   ],
   "source": [
    "type(feature_names)"
   ]
  },
  {
   "cell_type": "code",
   "execution_count": 76,
   "metadata": {},
   "outputs": [
    {
     "data": {
      "text/plain": [
       "Index(['Id', 'Age', 'Expenditures', 'Ethnicity_American Indian',\n",
       "       'Ethnicity_Asian', 'Ethnicity_Black', 'Ethnicity_Hispanic',\n",
       "       'Ethnicity_Multi Race', 'Ethnicity_Native Hawaiian', 'Ethnicity_Other',\n",
       "       'Ethnicity_White not Hispanic', 'Gender'],\n",
       "      dtype='object')"
      ]
     },
     "execution_count": 76,
     "metadata": {},
     "output_type": "execute_result"
    }
   ],
   "source": [
    "feature_names"
   ]
  },
  {
   "cell_type": "code",
   "execution_count": 77,
   "metadata": {},
   "outputs": [
    {
     "name": "stdout",
     "output_type": "stream",
     "text": [
      "(1000, 12)\n",
      "(1000,)\n"
     ]
    }
   ],
   "source": [
    "print(X.shape)\n",
    "print(y.shape)\n",
    "N, d = X.shape"
   ]
  },
  {
   "cell_type": "code",
   "execution_count": 78,
   "metadata": {},
   "outputs": [
    {
     "data": {
      "text/plain": [
       "pandas.core.series.Series"
      ]
     },
     "execution_count": 78,
     "metadata": {},
     "output_type": "execute_result"
    }
   ],
   "source": [
    "type(y)"
   ]
  },
  {
   "cell_type": "code",
   "execution_count": 79,
   "metadata": {},
   "outputs": [
    {
     "name": "stdout",
     "output_type": "stream",
     "text": [
      "700 300\n"
     ]
    }
   ],
   "source": [
    "from sklearn.model_selection import train_test_split\n",
    "X_train, X_test, y_train, y_test = train_test_split(X, y, test_size = 0.3, random_state = 1)\n",
    "\n",
    "N_train, _ = X_train.shape \n",
    "N_test,  _ = X_test.shape \n",
    "\n",
    "print(N_train, N_test)"
   ]
  },
  {
   "cell_type": "markdown",
   "metadata": {},
   "source": [
    "KNN"
   ]
  },
  {
   "cell_type": "code",
   "execution_count": 80,
   "metadata": {},
   "outputs": [
    {
     "data": {
      "text/plain": [
       "KNeighborsClassifier(algorithm='auto', leaf_size=30, metric='minkowski',\n",
       "           metric_params=None, n_jobs=1, n_neighbors=10, p=2,\n",
       "           weights='uniform')"
      ]
     },
     "execution_count": 80,
     "metadata": {},
     "output_type": "execute_result"
    }
   ],
   "source": [
    "from sklearn.neighbors import KNeighborsClassifier\n",
    "\n",
    "knn = KNeighborsClassifier(n_neighbors = 10)\n",
    "knn.fit(X_train, y_train)"
   ]
  },
  {
   "cell_type": "code",
   "execution_count": 81,
   "metadata": {},
   "outputs": [
    {
     "data": {
      "text/plain": [
       "KNeighborsClassifier(algorithm='auto', leaf_size=30, metric='minkowski',\n",
       "           metric_params=None, n_jobs=1, n_neighbors=10, p=2,\n",
       "           weights='uniform')"
      ]
     },
     "execution_count": 81,
     "metadata": {},
     "output_type": "execute_result"
    }
   ],
   "source": [
    "knn"
   ]
  },
  {
   "cell_type": "code",
   "execution_count": 82,
   "metadata": {},
   "outputs": [
    {
     "name": "stdout",
     "output_type": "stream",
     "text": [
      "0.2 0.293333333333\n"
     ]
    }
   ],
   "source": [
    "y_train_predict = knn.predict(X_train)\n",
    "y_test_predict = knn.predict(X_test)\n",
    "\n",
    "err_train = np.mean(y_train != y_train_predict)\n",
    "err_test  = np.mean(y_test  != y_test_predict)\n",
    "\n",
    "print(err_train, err_test)"
   ]
  },
  {
   "cell_type": "markdown",
   "metadata": {},
   "source": [
    "Второй метод подсчёта ошибки"
   ]
  },
  {
   "cell_type": "code",
   "execution_count": 85,
   "metadata": {
    "collapsed": true
   },
   "outputs": [],
   "source": [
    "err_test = 1 - knn.score(X_test, y_test) "
   ]
  },
  {
   "cell_type": "code",
   "execution_count": 83,
   "metadata": {},
   "outputs": [
    {
     "data": {
      "text/plain": [
       "0.29333333333333333"
      ]
     },
     "execution_count": 83,
     "metadata": {},
     "output_type": "execute_result"
    }
   ],
   "source": [
    "err_test"
   ]
  },
  {
   "cell_type": "code",
   "execution_count": 86,
   "metadata": {},
   "outputs": [
    {
     "name": "stdout",
     "output_type": "stream",
     "text": [
      "[[16  2  0  0  0 13]\n",
      " [ 0 46  0  0  0 15]\n",
      " [ 0 12 49  0  0  3]\n",
      " [ 0  0  0 54  6  0]\n",
      " [ 0  0  0 12 17  0]\n",
      " [ 5 20  0  0  0 30]]\n"
     ]
    }
   ],
   "source": [
    "from sklearn.metrics import confusion_matrix\n",
    "\n",
    "print(confusion_matrix(y_test, y_test_predict))"
   ]
  },
  {
   "cell_type": "markdown",
   "metadata": {},
   "source": [
    "Подбор параметров."
   ]
  },
  {
   "cell_type": "markdown",
   "metadata": {},
   "source": [
    "\n",
    "Найдем такое значение параметра k, при котором значение ошибки будет минимальным:"
   ]
  },
  {
   "cell_type": "code",
   "execution_count": 87,
   "metadata": {},
   "outputs": [
    {
     "name": "stdout",
     "output_type": "stream",
     "text": [
      "0.257142857143 5\n"
     ]
    }
   ],
   "source": [
    "from sklearn.model_selection import GridSearchCV\n",
    "nnb = [1, 3, 5, 10, 15, 20, 25, 35, 45, 55]\n",
    "knn = KNeighborsClassifier()\n",
    "grid = GridSearchCV(knn, param_grid = {'n_neighbors': nnb}, cv=10)\n",
    "grid.fit(X_train, y_train)\n",
    "\n",
    "best_cv_err = 1 - grid.best_score_\n",
    "best_n_neighbors = grid.best_estimator_.n_neighbors\n",
    "print(best_cv_err, best_n_neighbors)"
   ]
  },
  {
   "cell_type": "markdown",
   "metadata": {},
   "source": [
    "Осуществим классификацию при k=5 и вычислим значение ошибки еще раз."
   ]
  },
  {
   "cell_type": "code",
   "execution_count": 88,
   "metadata": {},
   "outputs": [
    {
     "name": "stdout",
     "output_type": "stream",
     "text": [
      "0.177142857143 0.27\n"
     ]
    }
   ],
   "source": [
    "knn = KNeighborsClassifier(n_neighbors = best_n_neighbors).fit(X_train, y_train)\n",
    "\n",
    "err_train = np.mean(y_train != knn.predict(X_train))\n",
    "err_test  = np.mean(y_test  != knn.predict(X_test))\n",
    "\n",
    "print(err_train, err_test)"
   ]
  },
  {
   "cell_type": "markdown",
   "metadata": {},
   "source": [
    "При к=5 ошибка уменьшилась на 0,2."
   ]
  },
  {
   "cell_type": "code",
   "execution_count": null,
   "metadata": {
    "collapsed": true
   },
   "outputs": [],
   "source": []
  }
 ],
 "metadata": {
  "kernelspec": {
   "display_name": "Python 3",
   "language": "python",
   "name": "python3"
  },
  "language_info": {
   "codemirror_mode": {
    "name": "ipython",
    "version": 3
   },
   "file_extension": ".py",
   "mimetype": "text/x-python",
   "name": "python",
   "nbconvert_exporter": "python",
   "pygments_lexer": "ipython3",
   "version": "3.6.2"
  }
 },
 "nbformat": 4,
 "nbformat_minor": 2
}
